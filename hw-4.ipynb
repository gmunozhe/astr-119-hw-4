{
 "cells": [
  {
   "cell_type": "code",
   "execution_count": null,
   "metadata": {},
   "outputs": [],
   "source": [
    "%matplotlib inline\n",
    "import numpy as np\n",
    "import matplotlib.pyplot as plt"
   ]
  },
  {
   "cell_type": "code",
   "execution_count": null,
   "metadata": {},
   "outputs": [],
   "source": [
    "def func(x):\n",
    "    a = -2.\n",
    "    b = 10\n",
    "    return (np.exp(a*x) * (np.cos(b*x)))"
   ]
  },
  {
   "cell_type": "code",
   "execution_count": null,
   "metadata": {},
   "outputs": [],
   "source": [
    "def func_integral(x):\n",
    "    a = -2.\n",
    "    b = 10\n",
    "    return (((a*np.exp(a*x))/104)*(np.cos(b*x)-5*np.sin(b*x)))"
   ]
  },
  {
   "cell_type": "code",
   "execution_count": null,
   "metadata": {},
   "outputs": [],
   "source": [
    "def trapezoid_core(f, x, h):\n",
    "    return 0.5*h*(f(x+h) + f(x))"
   ]
  },
  {
   "cell_type": "code",
   "execution_count": null,
   "metadata": {},
   "outputs": [],
   "source": [
    "def trapezoid_method(f, a, b, N):\n",
    "    #f= function to integrate\n",
    "    #a = lower limit of integration\n",
    "    #b = upper lim of integration\n",
    "    #N = number of function evaluations to use\n",
    "\n",
    "    \n",
    "    x=np.linspace(a, b, N)\n",
    "    h = x[1]-x[0]\n",
    "    \n",
    "    Fint = 0.0\n",
    "    \n",
    "    for i in range (0, len(x)-1, 1):\n",
    "        Fint += trapezoid_core(f, x[i], h)\n",
    "        #print (i, i+1, x[i], x[i]+h, x[-2], x[-1])\n",
    "    \n",
    "    #return the answer\n",
    "    return Fint"
   ]
  },
  {
   "cell_type": "code",
   "execution_count": null,
   "metadata": {},
   "outputs": [],
   "source": [
    "def simpson_core (f, x, h):\n",
    "    return h*( f(x) + 4*f(x+h) + f(x+2*h))/3.\n"
   ]
  },
  {
   "cell_type": "code",
   "execution_count": null,
   "metadata": {},
   "outputs": [],
   "source": [
    " def simpsons_method(f, a , b, N):\n",
    "    #f= function to integrate\n",
    "    #a = lower limit of integration\n",
    "    #b = upper lim of integration\n",
    "    #N = number of function evaluations to use\n",
    "    #the number of chunks will be N-1\n",
    "    #so if N is odd then we dont need to adjust the last segment\n",
    "    \n",
    "    x=np.linspace(a, b, N)\n",
    "    h = x[1]-x[0]\n",
    "    \n",
    "    Fint = 0.0\n",
    "    \n",
    "        \n",
    "    #perform the integral using simpson's method\n",
    "    for i in range(0, len(x)-2, 2):\n",
    "        Fint += simpson_core (f, x[i], h)\n",
    "        \n",
    "    #here apply simpson's rule over the last interval \n",
    "    #if N is even\n",
    "    if((N%2)==0):\n",
    "        Fint += simpson_core (f, x[-2],  0.5*h)\n",
    "\n",
    "    return Fint"
   ]
  },
  {
   "cell_type": "code",
   "execution_count": null,
   "metadata": {},
   "outputs": [],
   "source": [
    "def romberg_core(f, a ,b, i):\n",
    "    #we need the diff b-a\n",
    "    h = b-a\n",
    "    \n",
    "    # and the increment b/w new fun evals\n",
    "    dh = h/2.**(i)\n",
    "    \n",
    "    # we need cofactor\n",
    "    K = h/2.**(i+1)\n",
    "    \n",
    "    #func evaluations\n",
    "    M= 0.0\n",
    "    for j in range (2**i):\n",
    "        M += f(a+ 0.5*dh + j*dh)\n",
    "        \n",
    "    return K*M"
   ]
  },
  {
   "cell_type": "code",
   "execution_count": null,
   "metadata": {},
   "outputs": [],
   "source": [
    "def romberg_integration(f, a ,b , tol):\n",
    "    #def an iteration variable\n",
    "    i = 0\n",
    "    \n",
    "    #define a maximum number iterations\n",
    "    imax = 1000\n",
    "    #define an error estimate, set to a large value\n",
    "    delta = 100.0*np.fabs(tol)\n",
    "    \n",
    "    #set an array of integral answer\n",
    "    I = np.zeros(imax, dtype= float)\n",
    "    \n",
    "    #get the zeroth romberg iteration\n",
    "    I[0] = 0.5*(b-a)*(f(a)+ f(b))\n",
    "    \n",
    "    #iterate by 1\n",
    "    i += 1\n",
    "    \n",
    "    while (delta>tol):\n",
    "        #find this romberg iteration\n",
    "        I[i] = .5*I[i-1] + romberg_core(f, a , b, i)\n",
    "        \n",
    "        #compute the new fractional error\n",
    "        delta = np.fabs((I[i]-I[i-1])/I[i])\n",
    "        \n",
    "        print(i, I[i], I[i-1], delta)\n",
    "        \n",
    "        if(delta>tol):\n",
    "            \n",
    "            #iterate\n",
    "            i += 1\n",
    "            \n",
    "            #check max iterations\n",
    "            if(i>imax):\n",
    "                print (\"Max iterations reached.\")\n",
    "                raise StopIteration('Stopping iterations after', i)\n",
    "    \n",
    "    #return answer\n",
    "    return I[i]"
   ]
  },
  {
   "cell_type": "code",
   "execution_count": null,
   "metadata": {},
   "outputs": [],
   "source": [
    "Answer = func_integral(np.pi)-func_integral(0)\n",
    "print(Answer)\n",
    "\n",
    "print(\"Simpson's Method\")\n",
    "print(simpsons_method(func, 0, np.pi, 10))\n",
    "print(\"Romberg\")\n",
    "tolerance = 1.0e-6\n",
    "RI = romberg_integration(func,0, np.pi, tolerance)\n",
    "print(RI, (RI-Answer)/Answer, tolerance)\n"
   ]
  },
  {
   "cell_type": "markdown",
   "metadata": {},
   "source": [
    "3. The Romberg integration takes 26 iterations to reach the specified accuracy.\n"
   ]
  },
  {
   "cell_type": "code",
   "execution_count": null,
   "metadata": {},
   "outputs": [],
   "source": [
    "print(\"Trapezoid\")\n",
    "print(trapezoid_method(func, 0, np.pi, 100))"
   ]
  },
  {
   "cell_type": "code",
   "execution_count": null,
   "metadata": {},
   "outputs": [],
   "source": [
    "Answer = func_integral(np.pi)-func_integral(0)\n",
    "print(Answer)"
   ]
  },
  {
   "cell_type": "code",
   "execution_count": null,
   "metadata": {
    "scrolled": true
   },
   "outputs": [],
   "source": [
    "#Number of iterations using the Trapezoid Method\n",
    "for i in range(100, 10000, 1):\n",
    "    u = trapezoid_method(func, 0, np.pi, i)\n",
    "    #print(np.abs(u-Answer))\n",
    "    if (np.abs(u-Answer)) <= 1e-6:\n",
    "        print(i)\n",
    "        break "
   ]
  },
  {
   "cell_type": "code",
   "execution_count": null,
   "metadata": {},
   "outputs": [],
   "source": [
    "print(\"Simpson's Method\")\n",
    "print(simpsons_method(func, 0, np.pi, 100))"
   ]
  },
  {
   "cell_type": "code",
   "execution_count": null,
   "metadata": {},
   "outputs": [],
   "source": [
    "#Number of iterations using the Simpsons Method\n",
    "for i in range(100, 1000, 1):\n",
    "    u = simpsons_method(func, 0, np.pi, i)\n",
    "\n",
    "    if (np.abs(u-Answer)) <= 1e-6:\n",
    "        print(i)\n",
    "        break "
   ]
  },
  {
   "cell_type": "code",
   "execution_count": null,
   "metadata": {},
   "outputs": [],
   "source": []
  }
 ],
 "metadata": {
  "kernelspec": {
   "display_name": "Python 3",
   "language": "python",
   "name": "python3"
  },
  "language_info": {
   "codemirror_mode": {
    "name": "ipython",
    "version": 3
   },
   "file_extension": ".py",
   "mimetype": "text/x-python",
   "name": "python",
   "nbconvert_exporter": "python",
   "pygments_lexer": "ipython3",
   "version": "3.7.0"
  }
 },
 "nbformat": 4,
 "nbformat_minor": 2
}
